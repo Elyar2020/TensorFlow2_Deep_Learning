{
  "nbformat": 4,
  "nbformat_minor": 0,
  "metadata": {
    "colab": {
      "name": "1 Neural Network Regression with TensorFlow.ipynb",
      "provenance": []
    },
    "kernelspec": {
      "name": "python3",
      "display_name": "Python 3"
    },
    "language_info": {
      "name": "python"
    },
    "accelerator": "GPU"
  },
  "cells": [
    {
      "cell_type": "markdown",
      "source": [
        "# **01. Neural Network Regression with TensorFlow**\n",
        "There are many definitions for a regression problem but in our case, we're going to simplify it to be: predicting a number.\n",
        "\n",
        "For example, you might want to:\n",
        "\n",
        ">Predict the selling price of houses given information\n",
        "\n",
        ">about them (such as number of rooms, size, number of bathrooms).\n",
        "\n",
        ">Predict the coordinates of a bounding box of an item in an image.\n",
        "\n",
        "Predict the cost of medical insurance for an individual given their demographics (age, sex, gender, race).\n",
        "\n"
      ],
      "metadata": {
        "id": "vpmIb8hQ5Uv4"
      }
    },
    {
      "cell_type": "markdown",
      "source": [
        "# **Typical architecture of a regresison neural network**\n",
        "\n",
        "Because there are many different ways (actually, there's almost an infinite number of ways) to write neural networks.\n",
        "\n",
        "But the following is a generic setup for ingesting a collection of numbers, finding patterns in them and then outputing some kind of target number.\n",
        "\n",
        "\n",
        "\n",
        "Hyperparameter:\t  Typical value\n",
        "Input layer shape:\tSame shape as number of features (e.g. 3 for # bedrooms, # bathrooms, # car spaces in housing price prediction)\n",
        "\n",
        ">Hidden layer(s):\tProblem specific, minimum = 1, maximum = unlimited\n",
        "\n",
        ">Neurons per hidden layer:\tProblem specific, generally 10 to 100\n",
        "\n",
        ">Output layer shape:\tSame shape as desired prediction shape (e.g. 1 for house price)\n",
        "\n",
        ">Hidden activation:\tUsually ReLU (rectified linear unit)\n",
        "\n",
        ">Output activation:\tNone, ReLU, logistic/tanh\n",
        "\n",
        ">Loss function:\tMSE (mean square error) or MAE (mean absolute error)/Huber (combination of MAE/MSE) if outliers\n",
        "\n",
        ">Optimizer\tSGD (stochastic gradient descent), Adam"
      ],
      "metadata": {
        "id": "p3Xk_gbs6rzy"
      }
    },
    {
      "cell_type": "markdown",
      "source": [
        "# **🔑 Note: A hyperparameter in machine learning is something a data analyst or developer can set themselves(nerouns,layers,activation function,...), where as a parameter usually describes something a model learns on its own (a value not explicitly set by an analyst).**"
      ],
      "metadata": {
        "id": "NqCqHV3r8JF8"
      }
    },
    {
      "cell_type": "code",
      "source": [
        "import tensorflow as tf\n",
        "print(tf.__version__) # check the version of the tf"
      ],
      "metadata": {
        "colab": {
          "base_uri": "https://localhost:8080/"
        },
        "id": "aqM3f0Aw8dxH",
        "outputId": "711242fb-b0f6-4d11-c0f1-5f91d2026bac"
      },
      "execution_count": 1,
      "outputs": [
        {
          "output_type": "stream",
          "name": "stdout",
          "text": [
            "2.7.0\n"
          ]
        }
      ]
    },
    {
      "cell_type": "markdown",
      "source": [
        "# **Regression input shapes and output shapes:**\n",
        "One of the most important concepts when working with neural networks are the input and output shapes.\n",
        "\n",
        ">The input shape is the shape of your data that goes into the model.\n",
        "\n",
        ">The output shape is the shape of your data you want to come out of your model.\n",
        "\n",
        ">These will differ depending on the problem you're working on.\n",
        "\n",
        ">Neural networks accept numbers and output numbers. These numbers are typically represented as tensors (or arrays)."
      ],
      "metadata": {
        "id": "42vIjlDY9lie"
      }
    },
    {
      "cell_type": "code",
      "source": [
        ""
      ],
      "metadata": {
        "id": "T6ddDxgJ95Z9"
      },
      "execution_count": 1,
      "outputs": []
    },
    {
      "cell_type": "markdown",
      "source": [
        "# **Steps in modelling with TensorFlow:**\n",
        "\n",
        "\n",
        "\n",
        "**In TensorFlow, there are typically 3 fundamental steps to creating and training a model.**\n",
        "\n",
        ">**Creating a model: - piece together the layers of a neural network yourself (using the Functional or Sequential API) or import a previously built model (known as transfer learning).**\n",
        "\n",
        ">**Compiling a model - defining how a models performance should be measured (loss/metrics) as well as defining how it should improve (optimizer).**\n",
        "\n",
        ">**Fitting a model - letting the model try to find patterns in the data (how does X get to y).**\n",
        "\n",
        "Let's see these in action using the Keras Sequential API to build a model for our regression data. And then we'll step through each.\n",
        "\n",
        "# Note: If you're using TensorFlow 2.7.0+, the fit() function no longer upscales input data to go from (batch_size, ) to (batch_size, 1). To fix this, you'll need to expand the dimension of input data using tf.expand_dims(input_data, axis=-1).\n",
        "\n"
      ],
      "metadata": {
        "id": "BzDeN3p4-sMS"
      }
    },
    {
      "cell_type": "markdown",
      "source": [
        "# **HOW TO Improving a model?**\n",
        "\n",
        "**Adding Layers**\n",
        "\n",
        "**Increase the number of hidden unites**\n",
        "\n",
        "**Change the activation functions**\n",
        "\n",
        "**Change the optimization functions**\n",
        "\n",
        "**Change the learning rate**\n",
        "\n",
        "**Fitting on more data**\n",
        "\n",
        "**fiting for longer**\n",
        "\n",
        "\n",
        "**all these called hyperparameter tuning + there is lots** \n",
        "\n",
        "**of another things we can do but these are the most** \n",
        "\n",
        "\n",
        "**importan hyperparameters tuning**\n",
        "\n",
        "\n",
        "\n",
        "\n"
      ],
      "metadata": {
        "id": "ghaMmPbu_1gG"
      }
    },
    {
      "cell_type": "markdown",
      "source": [
        "# **Evaluating a model:**\n",
        "A typical workflow you'll go through when building neural networks is:\n",
        "\n",
        "**Build a model -> evaluate it -> build (tweak) a model ->** \n",
        "\n",
        "**evaulate it -> build (tweak) a model -> evaluate it...**\n",
        "\n",
        "\n",
        "The tweaking comes from maybe not building a model from \n",
        "\n",
        "scratch but adjusting an existing one."
      ],
      "metadata": {
        "id": "ESkmvP63C23P"
      }
    },
    {
      "cell_type": "markdown",
      "source": [
        "# **It's a good idea to visualize:** Why?\n",
        "\n",
        "The data - what data are you working with? What does it look like?\n",
        "\n",
        "The model itself - what does the architecture look like? What are the different shapes?\n",
        "\n",
        "The training of a model - how does a model perform while it learns?\n",
        "\n",
        "The predictions of a model - how do the predictions of a model line up against the ground truth (the original labels)?"
      ],
      "metadata": {
        "id": "ccsbAaskDP5f"
      }
    },
    {
      "cell_type": "code",
      "source": [
        ""
      ],
      "metadata": {
        "id": "ES5Ugyk7Dd32"
      },
      "execution_count": 1,
      "outputs": []
    },
    {
      "cell_type": "markdown",
      "source": [
        "# **Split data into training/test set:**\n",
        "\n",
        "**One of the other most common and important steps in a machine learning project is creating a training and test set (and when required, a validation set).**\n",
        "\n",
        "*Each set serves a specific purpose:*\n",
        "\n",
        "**Training set - the model learns from this data, which is typically 70-80% of the total data available (like the course materials you study during the semester).**\n",
        "\n",
        "**Validation set - the model gets tuned on this data, which is typically 10-15% of the total data available (like the practice exam you take before the final exam).**\n",
        "\n",
        "**Test set - the model gets evaluated on this data to test what it has learned, it's typically 10-15% of the total data available (like the final exam you take at the end of the semester).**\n",
        "\n",
        "\n",
        "\n",
        "***🔑 Note: When dealing with real-world data, this step is typically done right at the start of a project (the test set should always be kept separate from all other data). We want our model to learn on training data and then evaluate it on test data to get an indication of how well it generalizes to unseen examples.***"
      ],
      "metadata": {
        "id": "F6QEEebQDrFw"
      }
    },
    {
      "cell_type": "code",
      "source": [
        "# Import required libraries\n",
        "import tensorflow as tf\n",
        "import pandas as pd\n",
        "import matplotlib.pyplot as plt"
      ],
      "metadata": {
        "id": "gu6chBnsEIsw"
      },
      "execution_count": 2,
      "outputs": []
    },
    {
      "cell_type": "code",
      "source": [
        "# Read in the insurance dataset\n",
        "insurance = pd.read_csv(\"https://raw.githubusercontent.com/stedy/Machine-Learning-with-R-datasets/master/insurance.csv\")"
      ],
      "metadata": {
        "id": "sK5bAnCDFpIq"
      },
      "execution_count": 3,
      "outputs": []
    },
    {
      "cell_type": "code",
      "source": [
        "insurance.head()"
      ],
      "metadata": {
        "colab": {
          "base_uri": "https://localhost:8080/",
          "height": 206
        },
        "id": "4jGLEPqyFvB1",
        "outputId": "1aa1271f-18ec-4334-855a-745a4e19d904"
      },
      "execution_count": 4,
      "outputs": [
        {
          "output_type": "execute_result",
          "data": {
            "text/html": [
              "\n",
              "  <div id=\"df-4cde01c2-cb03-4dd0-8bbe-c324cac4a2f1\">\n",
              "    <div class=\"colab-df-container\">\n",
              "      <div>\n",
              "<style scoped>\n",
              "    .dataframe tbody tr th:only-of-type {\n",
              "        vertical-align: middle;\n",
              "    }\n",
              "\n",
              "    .dataframe tbody tr th {\n",
              "        vertical-align: top;\n",
              "    }\n",
              "\n",
              "    .dataframe thead th {\n",
              "        text-align: right;\n",
              "    }\n",
              "</style>\n",
              "<table border=\"1\" class=\"dataframe\">\n",
              "  <thead>\n",
              "    <tr style=\"text-align: right;\">\n",
              "      <th></th>\n",
              "      <th>age</th>\n",
              "      <th>sex</th>\n",
              "      <th>bmi</th>\n",
              "      <th>children</th>\n",
              "      <th>smoker</th>\n",
              "      <th>region</th>\n",
              "      <th>charges</th>\n",
              "    </tr>\n",
              "  </thead>\n",
              "  <tbody>\n",
              "    <tr>\n",
              "      <th>0</th>\n",
              "      <td>19</td>\n",
              "      <td>female</td>\n",
              "      <td>27.900</td>\n",
              "      <td>0</td>\n",
              "      <td>yes</td>\n",
              "      <td>southwest</td>\n",
              "      <td>16884.92400</td>\n",
              "    </tr>\n",
              "    <tr>\n",
              "      <th>1</th>\n",
              "      <td>18</td>\n",
              "      <td>male</td>\n",
              "      <td>33.770</td>\n",
              "      <td>1</td>\n",
              "      <td>no</td>\n",
              "      <td>southeast</td>\n",
              "      <td>1725.55230</td>\n",
              "    </tr>\n",
              "    <tr>\n",
              "      <th>2</th>\n",
              "      <td>28</td>\n",
              "      <td>male</td>\n",
              "      <td>33.000</td>\n",
              "      <td>3</td>\n",
              "      <td>no</td>\n",
              "      <td>southeast</td>\n",
              "      <td>4449.46200</td>\n",
              "    </tr>\n",
              "    <tr>\n",
              "      <th>3</th>\n",
              "      <td>33</td>\n",
              "      <td>male</td>\n",
              "      <td>22.705</td>\n",
              "      <td>0</td>\n",
              "      <td>no</td>\n",
              "      <td>northwest</td>\n",
              "      <td>21984.47061</td>\n",
              "    </tr>\n",
              "    <tr>\n",
              "      <th>4</th>\n",
              "      <td>32</td>\n",
              "      <td>male</td>\n",
              "      <td>28.880</td>\n",
              "      <td>0</td>\n",
              "      <td>no</td>\n",
              "      <td>northwest</td>\n",
              "      <td>3866.85520</td>\n",
              "    </tr>\n",
              "  </tbody>\n",
              "</table>\n",
              "</div>\n",
              "      <button class=\"colab-df-convert\" onclick=\"convertToInteractive('df-4cde01c2-cb03-4dd0-8bbe-c324cac4a2f1')\"\n",
              "              title=\"Convert this dataframe to an interactive table.\"\n",
              "              style=\"display:none;\">\n",
              "        \n",
              "  <svg xmlns=\"http://www.w3.org/2000/svg\" height=\"24px\"viewBox=\"0 0 24 24\"\n",
              "       width=\"24px\">\n",
              "    <path d=\"M0 0h24v24H0V0z\" fill=\"none\"/>\n",
              "    <path d=\"M18.56 5.44l.94 2.06.94-2.06 2.06-.94-2.06-.94-.94-2.06-.94 2.06-2.06.94zm-11 1L8.5 8.5l.94-2.06 2.06-.94-2.06-.94L8.5 2.5l-.94 2.06-2.06.94zm10 10l.94 2.06.94-2.06 2.06-.94-2.06-.94-.94-2.06-.94 2.06-2.06.94z\"/><path d=\"M17.41 7.96l-1.37-1.37c-.4-.4-.92-.59-1.43-.59-.52 0-1.04.2-1.43.59L10.3 9.45l-7.72 7.72c-.78.78-.78 2.05 0 2.83L4 21.41c.39.39.9.59 1.41.59.51 0 1.02-.2 1.41-.59l7.78-7.78 2.81-2.81c.8-.78.8-2.07 0-2.86zM5.41 20L4 18.59l7.72-7.72 1.47 1.35L5.41 20z\"/>\n",
              "  </svg>\n",
              "      </button>\n",
              "      \n",
              "  <style>\n",
              "    .colab-df-container {\n",
              "      display:flex;\n",
              "      flex-wrap:wrap;\n",
              "      gap: 12px;\n",
              "    }\n",
              "\n",
              "    .colab-df-convert {\n",
              "      background-color: #E8F0FE;\n",
              "      border: none;\n",
              "      border-radius: 50%;\n",
              "      cursor: pointer;\n",
              "      display: none;\n",
              "      fill: #1967D2;\n",
              "      height: 32px;\n",
              "      padding: 0 0 0 0;\n",
              "      width: 32px;\n",
              "    }\n",
              "\n",
              "    .colab-df-convert:hover {\n",
              "      background-color: #E2EBFA;\n",
              "      box-shadow: 0px 1px 2px rgba(60, 64, 67, 0.3), 0px 1px 3px 1px rgba(60, 64, 67, 0.15);\n",
              "      fill: #174EA6;\n",
              "    }\n",
              "\n",
              "    [theme=dark] .colab-df-convert {\n",
              "      background-color: #3B4455;\n",
              "      fill: #D2E3FC;\n",
              "    }\n",
              "\n",
              "    [theme=dark] .colab-df-convert:hover {\n",
              "      background-color: #434B5C;\n",
              "      box-shadow: 0px 1px 3px 1px rgba(0, 0, 0, 0.15);\n",
              "      filter: drop-shadow(0px 1px 2px rgba(0, 0, 0, 0.3));\n",
              "      fill: #FFFFFF;\n",
              "    }\n",
              "  </style>\n",
              "\n",
              "      <script>\n",
              "        const buttonEl =\n",
              "          document.querySelector('#df-4cde01c2-cb03-4dd0-8bbe-c324cac4a2f1 button.colab-df-convert');\n",
              "        buttonEl.style.display =\n",
              "          google.colab.kernel.accessAllowed ? 'block' : 'none';\n",
              "\n",
              "        async function convertToInteractive(key) {\n",
              "          const element = document.querySelector('#df-4cde01c2-cb03-4dd0-8bbe-c324cac4a2f1');\n",
              "          const dataTable =\n",
              "            await google.colab.kernel.invokeFunction('convertToInteractive',\n",
              "                                                     [key], {});\n",
              "          if (!dataTable) return;\n",
              "\n",
              "          const docLinkHtml = 'Like what you see? Visit the ' +\n",
              "            '<a target=\"_blank\" href=https://colab.research.google.com/notebooks/data_table.ipynb>data table notebook</a>'\n",
              "            + ' to learn more about interactive tables.';\n",
              "          element.innerHTML = '';\n",
              "          dataTable['output_type'] = 'display_data';\n",
              "          await google.colab.output.renderOutput(dataTable, element);\n",
              "          const docLink = document.createElement('div');\n",
              "          docLink.innerHTML = docLinkHtml;\n",
              "          element.appendChild(docLink);\n",
              "        }\n",
              "      </script>\n",
              "    </div>\n",
              "  </div>\n",
              "  "
            ],
            "text/plain": [
              "   age     sex     bmi  children smoker     region      charges\n",
              "0   19  female  27.900         0    yes  southwest  16884.92400\n",
              "1   18    male  33.770         1     no  southeast   1725.55230\n",
              "2   28    male  33.000         3     no  southeast   4449.46200\n",
              "3   33    male  22.705         0     no  northwest  21984.47061\n",
              "4   32    male  28.880         0     no  northwest   3866.85520"
            ]
          },
          "metadata": {},
          "execution_count": 4
        }
      ]
    },
    {
      "cell_type": "markdown",
      "source": [
        "**We're going to have to turn the non-numerical columns into numbers (because a neural network can't handle non-numerical inputs).**\n",
        "\n",
        "To do so, we'll use the **get_dummies() method** in pandas.\n",
        "\n",
        "*It converts categorical variables (like the sex, smoker and region columns) into numerical variables using one-hot encoding.*"
      ],
      "metadata": {
        "id": "0BU211i0GRlX"
      }
    },
    {
      "cell_type": "code",
      "source": [
        "# Turn all categories into numbers\n",
        "insurance_one_hot = pd.get_dummies(insurance)\n",
        "insurance_one_hot.head() # view the converted columns"
      ],
      "metadata": {
        "colab": {
          "base_uri": "https://localhost:8080/",
          "height": 250
        },
        "id": "Xt-Ik9VzGZoh",
        "outputId": "15449207-b405-4217-c623-0f2c898a15d8"
      },
      "execution_count": 5,
      "outputs": [
        {
          "output_type": "execute_result",
          "data": {
            "text/html": [
              "\n",
              "  <div id=\"df-ca5fee28-d613-49eb-9c64-ad5f2ee93bed\">\n",
              "    <div class=\"colab-df-container\">\n",
              "      <div>\n",
              "<style scoped>\n",
              "    .dataframe tbody tr th:only-of-type {\n",
              "        vertical-align: middle;\n",
              "    }\n",
              "\n",
              "    .dataframe tbody tr th {\n",
              "        vertical-align: top;\n",
              "    }\n",
              "\n",
              "    .dataframe thead th {\n",
              "        text-align: right;\n",
              "    }\n",
              "</style>\n",
              "<table border=\"1\" class=\"dataframe\">\n",
              "  <thead>\n",
              "    <tr style=\"text-align: right;\">\n",
              "      <th></th>\n",
              "      <th>age</th>\n",
              "      <th>bmi</th>\n",
              "      <th>children</th>\n",
              "      <th>charges</th>\n",
              "      <th>sex_female</th>\n",
              "      <th>sex_male</th>\n",
              "      <th>smoker_no</th>\n",
              "      <th>smoker_yes</th>\n",
              "      <th>region_northeast</th>\n",
              "      <th>region_northwest</th>\n",
              "      <th>region_southeast</th>\n",
              "      <th>region_southwest</th>\n",
              "    </tr>\n",
              "  </thead>\n",
              "  <tbody>\n",
              "    <tr>\n",
              "      <th>0</th>\n",
              "      <td>19</td>\n",
              "      <td>27.900</td>\n",
              "      <td>0</td>\n",
              "      <td>16884.92400</td>\n",
              "      <td>1</td>\n",
              "      <td>0</td>\n",
              "      <td>0</td>\n",
              "      <td>1</td>\n",
              "      <td>0</td>\n",
              "      <td>0</td>\n",
              "      <td>0</td>\n",
              "      <td>1</td>\n",
              "    </tr>\n",
              "    <tr>\n",
              "      <th>1</th>\n",
              "      <td>18</td>\n",
              "      <td>33.770</td>\n",
              "      <td>1</td>\n",
              "      <td>1725.55230</td>\n",
              "      <td>0</td>\n",
              "      <td>1</td>\n",
              "      <td>1</td>\n",
              "      <td>0</td>\n",
              "      <td>0</td>\n",
              "      <td>0</td>\n",
              "      <td>1</td>\n",
              "      <td>0</td>\n",
              "    </tr>\n",
              "    <tr>\n",
              "      <th>2</th>\n",
              "      <td>28</td>\n",
              "      <td>33.000</td>\n",
              "      <td>3</td>\n",
              "      <td>4449.46200</td>\n",
              "      <td>0</td>\n",
              "      <td>1</td>\n",
              "      <td>1</td>\n",
              "      <td>0</td>\n",
              "      <td>0</td>\n",
              "      <td>0</td>\n",
              "      <td>1</td>\n",
              "      <td>0</td>\n",
              "    </tr>\n",
              "    <tr>\n",
              "      <th>3</th>\n",
              "      <td>33</td>\n",
              "      <td>22.705</td>\n",
              "      <td>0</td>\n",
              "      <td>21984.47061</td>\n",
              "      <td>0</td>\n",
              "      <td>1</td>\n",
              "      <td>1</td>\n",
              "      <td>0</td>\n",
              "      <td>0</td>\n",
              "      <td>1</td>\n",
              "      <td>0</td>\n",
              "      <td>0</td>\n",
              "    </tr>\n",
              "    <tr>\n",
              "      <th>4</th>\n",
              "      <td>32</td>\n",
              "      <td>28.880</td>\n",
              "      <td>0</td>\n",
              "      <td>3866.85520</td>\n",
              "      <td>0</td>\n",
              "      <td>1</td>\n",
              "      <td>1</td>\n",
              "      <td>0</td>\n",
              "      <td>0</td>\n",
              "      <td>1</td>\n",
              "      <td>0</td>\n",
              "      <td>0</td>\n",
              "    </tr>\n",
              "  </tbody>\n",
              "</table>\n",
              "</div>\n",
              "      <button class=\"colab-df-convert\" onclick=\"convertToInteractive('df-ca5fee28-d613-49eb-9c64-ad5f2ee93bed')\"\n",
              "              title=\"Convert this dataframe to an interactive table.\"\n",
              "              style=\"display:none;\">\n",
              "        \n",
              "  <svg xmlns=\"http://www.w3.org/2000/svg\" height=\"24px\"viewBox=\"0 0 24 24\"\n",
              "       width=\"24px\">\n",
              "    <path d=\"M0 0h24v24H0V0z\" fill=\"none\"/>\n",
              "    <path d=\"M18.56 5.44l.94 2.06.94-2.06 2.06-.94-2.06-.94-.94-2.06-.94 2.06-2.06.94zm-11 1L8.5 8.5l.94-2.06 2.06-.94-2.06-.94L8.5 2.5l-.94 2.06-2.06.94zm10 10l.94 2.06.94-2.06 2.06-.94-2.06-.94-.94-2.06-.94 2.06-2.06.94z\"/><path d=\"M17.41 7.96l-1.37-1.37c-.4-.4-.92-.59-1.43-.59-.52 0-1.04.2-1.43.59L10.3 9.45l-7.72 7.72c-.78.78-.78 2.05 0 2.83L4 21.41c.39.39.9.59 1.41.59.51 0 1.02-.2 1.41-.59l7.78-7.78 2.81-2.81c.8-.78.8-2.07 0-2.86zM5.41 20L4 18.59l7.72-7.72 1.47 1.35L5.41 20z\"/>\n",
              "  </svg>\n",
              "      </button>\n",
              "      \n",
              "  <style>\n",
              "    .colab-df-container {\n",
              "      display:flex;\n",
              "      flex-wrap:wrap;\n",
              "      gap: 12px;\n",
              "    }\n",
              "\n",
              "    .colab-df-convert {\n",
              "      background-color: #E8F0FE;\n",
              "      border: none;\n",
              "      border-radius: 50%;\n",
              "      cursor: pointer;\n",
              "      display: none;\n",
              "      fill: #1967D2;\n",
              "      height: 32px;\n",
              "      padding: 0 0 0 0;\n",
              "      width: 32px;\n",
              "    }\n",
              "\n",
              "    .colab-df-convert:hover {\n",
              "      background-color: #E2EBFA;\n",
              "      box-shadow: 0px 1px 2px rgba(60, 64, 67, 0.3), 0px 1px 3px 1px rgba(60, 64, 67, 0.15);\n",
              "      fill: #174EA6;\n",
              "    }\n",
              "\n",
              "    [theme=dark] .colab-df-convert {\n",
              "      background-color: #3B4455;\n",
              "      fill: #D2E3FC;\n",
              "    }\n",
              "\n",
              "    [theme=dark] .colab-df-convert:hover {\n",
              "      background-color: #434B5C;\n",
              "      box-shadow: 0px 1px 3px 1px rgba(0, 0, 0, 0.15);\n",
              "      filter: drop-shadow(0px 1px 2px rgba(0, 0, 0, 0.3));\n",
              "      fill: #FFFFFF;\n",
              "    }\n",
              "  </style>\n",
              "\n",
              "      <script>\n",
              "        const buttonEl =\n",
              "          document.querySelector('#df-ca5fee28-d613-49eb-9c64-ad5f2ee93bed button.colab-df-convert');\n",
              "        buttonEl.style.display =\n",
              "          google.colab.kernel.accessAllowed ? 'block' : 'none';\n",
              "\n",
              "        async function convertToInteractive(key) {\n",
              "          const element = document.querySelector('#df-ca5fee28-d613-49eb-9c64-ad5f2ee93bed');\n",
              "          const dataTable =\n",
              "            await google.colab.kernel.invokeFunction('convertToInteractive',\n",
              "                                                     [key], {});\n",
              "          if (!dataTable) return;\n",
              "\n",
              "          const docLinkHtml = 'Like what you see? Visit the ' +\n",
              "            '<a target=\"_blank\" href=https://colab.research.google.com/notebooks/data_table.ipynb>data table notebook</a>'\n",
              "            + ' to learn more about interactive tables.';\n",
              "          element.innerHTML = '';\n",
              "          dataTable['output_type'] = 'display_data';\n",
              "          await google.colab.output.renderOutput(dataTable, element);\n",
              "          const docLink = document.createElement('div');\n",
              "          docLink.innerHTML = docLinkHtml;\n",
              "          element.appendChild(docLink);\n",
              "        }\n",
              "      </script>\n",
              "    </div>\n",
              "  </div>\n",
              "  "
            ],
            "text/plain": [
              "   age     bmi  children  ...  region_northwest  region_southeast  region_southwest\n",
              "0   19  27.900         0  ...                 0                 0                 1\n",
              "1   18  33.770         1  ...                 0                 1                 0\n",
              "2   28  33.000         3  ...                 0                 1                 0\n",
              "3   33  22.705         0  ...                 1                 0                 0\n",
              "4   32  28.880         0  ...                 1                 0                 0\n",
              "\n",
              "[5 rows x 12 columns]"
            ]
          },
          "metadata": {},
          "execution_count": 5
        }
      ]
    },
    {
      "cell_type": "markdown",
      "source": [
        "**Now we'll split data into features (X) and labels (y).**"
      ],
      "metadata": {
        "id": "zhvTIrjGMOwf"
      }
    },
    {
      "cell_type": "code",
      "source": [
        "# Create X & y values\n",
        "X = insurance_one_hot.drop(\"charges\", axis=1)\n",
        "y = insurance_one_hot[\"charges\"]"
      ],
      "metadata": {
        "id": "lhfbXpLfMRDE"
      },
      "execution_count": 6,
      "outputs": []
    },
    {
      "cell_type": "code",
      "source": [
        "# View features\n",
        "X.head()"
      ],
      "metadata": {
        "colab": {
          "base_uri": "https://localhost:8080/",
          "height": 206
        },
        "id": "RJtFmTXU5ZWf",
        "outputId": "b392e1c0-aba2-421c-ea62-d3fbcff4c069"
      },
      "execution_count": 7,
      "outputs": [
        {
          "output_type": "execute_result",
          "data": {
            "text/html": [
              "\n",
              "  <div id=\"df-36db3ae7-076d-4d71-b6b6-a38e7e449aef\">\n",
              "    <div class=\"colab-df-container\">\n",
              "      <div>\n",
              "<style scoped>\n",
              "    .dataframe tbody tr th:only-of-type {\n",
              "        vertical-align: middle;\n",
              "    }\n",
              "\n",
              "    .dataframe tbody tr th {\n",
              "        vertical-align: top;\n",
              "    }\n",
              "\n",
              "    .dataframe thead th {\n",
              "        text-align: right;\n",
              "    }\n",
              "</style>\n",
              "<table border=\"1\" class=\"dataframe\">\n",
              "  <thead>\n",
              "    <tr style=\"text-align: right;\">\n",
              "      <th></th>\n",
              "      <th>age</th>\n",
              "      <th>bmi</th>\n",
              "      <th>children</th>\n",
              "      <th>sex_female</th>\n",
              "      <th>sex_male</th>\n",
              "      <th>smoker_no</th>\n",
              "      <th>smoker_yes</th>\n",
              "      <th>region_northeast</th>\n",
              "      <th>region_northwest</th>\n",
              "      <th>region_southeast</th>\n",
              "      <th>region_southwest</th>\n",
              "    </tr>\n",
              "  </thead>\n",
              "  <tbody>\n",
              "    <tr>\n",
              "      <th>0</th>\n",
              "      <td>19</td>\n",
              "      <td>27.900</td>\n",
              "      <td>0</td>\n",
              "      <td>1</td>\n",
              "      <td>0</td>\n",
              "      <td>0</td>\n",
              "      <td>1</td>\n",
              "      <td>0</td>\n",
              "      <td>0</td>\n",
              "      <td>0</td>\n",
              "      <td>1</td>\n",
              "    </tr>\n",
              "    <tr>\n",
              "      <th>1</th>\n",
              "      <td>18</td>\n",
              "      <td>33.770</td>\n",
              "      <td>1</td>\n",
              "      <td>0</td>\n",
              "      <td>1</td>\n",
              "      <td>1</td>\n",
              "      <td>0</td>\n",
              "      <td>0</td>\n",
              "      <td>0</td>\n",
              "      <td>1</td>\n",
              "      <td>0</td>\n",
              "    </tr>\n",
              "    <tr>\n",
              "      <th>2</th>\n",
              "      <td>28</td>\n",
              "      <td>33.000</td>\n",
              "      <td>3</td>\n",
              "      <td>0</td>\n",
              "      <td>1</td>\n",
              "      <td>1</td>\n",
              "      <td>0</td>\n",
              "      <td>0</td>\n",
              "      <td>0</td>\n",
              "      <td>1</td>\n",
              "      <td>0</td>\n",
              "    </tr>\n",
              "    <tr>\n",
              "      <th>3</th>\n",
              "      <td>33</td>\n",
              "      <td>22.705</td>\n",
              "      <td>0</td>\n",
              "      <td>0</td>\n",
              "      <td>1</td>\n",
              "      <td>1</td>\n",
              "      <td>0</td>\n",
              "      <td>0</td>\n",
              "      <td>1</td>\n",
              "      <td>0</td>\n",
              "      <td>0</td>\n",
              "    </tr>\n",
              "    <tr>\n",
              "      <th>4</th>\n",
              "      <td>32</td>\n",
              "      <td>28.880</td>\n",
              "      <td>0</td>\n",
              "      <td>0</td>\n",
              "      <td>1</td>\n",
              "      <td>1</td>\n",
              "      <td>0</td>\n",
              "      <td>0</td>\n",
              "      <td>1</td>\n",
              "      <td>0</td>\n",
              "      <td>0</td>\n",
              "    </tr>\n",
              "  </tbody>\n",
              "</table>\n",
              "</div>\n",
              "      <button class=\"colab-df-convert\" onclick=\"convertToInteractive('df-36db3ae7-076d-4d71-b6b6-a38e7e449aef')\"\n",
              "              title=\"Convert this dataframe to an interactive table.\"\n",
              "              style=\"display:none;\">\n",
              "        \n",
              "  <svg xmlns=\"http://www.w3.org/2000/svg\" height=\"24px\"viewBox=\"0 0 24 24\"\n",
              "       width=\"24px\">\n",
              "    <path d=\"M0 0h24v24H0V0z\" fill=\"none\"/>\n",
              "    <path d=\"M18.56 5.44l.94 2.06.94-2.06 2.06-.94-2.06-.94-.94-2.06-.94 2.06-2.06.94zm-11 1L8.5 8.5l.94-2.06 2.06-.94-2.06-.94L8.5 2.5l-.94 2.06-2.06.94zm10 10l.94 2.06.94-2.06 2.06-.94-2.06-.94-.94-2.06-.94 2.06-2.06.94z\"/><path d=\"M17.41 7.96l-1.37-1.37c-.4-.4-.92-.59-1.43-.59-.52 0-1.04.2-1.43.59L10.3 9.45l-7.72 7.72c-.78.78-.78 2.05 0 2.83L4 21.41c.39.39.9.59 1.41.59.51 0 1.02-.2 1.41-.59l7.78-7.78 2.81-2.81c.8-.78.8-2.07 0-2.86zM5.41 20L4 18.59l7.72-7.72 1.47 1.35L5.41 20z\"/>\n",
              "  </svg>\n",
              "      </button>\n",
              "      \n",
              "  <style>\n",
              "    .colab-df-container {\n",
              "      display:flex;\n",
              "      flex-wrap:wrap;\n",
              "      gap: 12px;\n",
              "    }\n",
              "\n",
              "    .colab-df-convert {\n",
              "      background-color: #E8F0FE;\n",
              "      border: none;\n",
              "      border-radius: 50%;\n",
              "      cursor: pointer;\n",
              "      display: none;\n",
              "      fill: #1967D2;\n",
              "      height: 32px;\n",
              "      padding: 0 0 0 0;\n",
              "      width: 32px;\n",
              "    }\n",
              "\n",
              "    .colab-df-convert:hover {\n",
              "      background-color: #E2EBFA;\n",
              "      box-shadow: 0px 1px 2px rgba(60, 64, 67, 0.3), 0px 1px 3px 1px rgba(60, 64, 67, 0.15);\n",
              "      fill: #174EA6;\n",
              "    }\n",
              "\n",
              "    [theme=dark] .colab-df-convert {\n",
              "      background-color: #3B4455;\n",
              "      fill: #D2E3FC;\n",
              "    }\n",
              "\n",
              "    [theme=dark] .colab-df-convert:hover {\n",
              "      background-color: #434B5C;\n",
              "      box-shadow: 0px 1px 3px 1px rgba(0, 0, 0, 0.15);\n",
              "      filter: drop-shadow(0px 1px 2px rgba(0, 0, 0, 0.3));\n",
              "      fill: #FFFFFF;\n",
              "    }\n",
              "  </style>\n",
              "\n",
              "      <script>\n",
              "        const buttonEl =\n",
              "          document.querySelector('#df-36db3ae7-076d-4d71-b6b6-a38e7e449aef button.colab-df-convert');\n",
              "        buttonEl.style.display =\n",
              "          google.colab.kernel.accessAllowed ? 'block' : 'none';\n",
              "\n",
              "        async function convertToInteractive(key) {\n",
              "          const element = document.querySelector('#df-36db3ae7-076d-4d71-b6b6-a38e7e449aef');\n",
              "          const dataTable =\n",
              "            await google.colab.kernel.invokeFunction('convertToInteractive',\n",
              "                                                     [key], {});\n",
              "          if (!dataTable) return;\n",
              "\n",
              "          const docLinkHtml = 'Like what you see? Visit the ' +\n",
              "            '<a target=\"_blank\" href=https://colab.research.google.com/notebooks/data_table.ipynb>data table notebook</a>'\n",
              "            + ' to learn more about interactive tables.';\n",
              "          element.innerHTML = '';\n",
              "          dataTable['output_type'] = 'display_data';\n",
              "          await google.colab.output.renderOutput(dataTable, element);\n",
              "          const docLink = document.createElement('div');\n",
              "          docLink.innerHTML = docLinkHtml;\n",
              "          element.appendChild(docLink);\n",
              "        }\n",
              "      </script>\n",
              "    </div>\n",
              "  </div>\n",
              "  "
            ],
            "text/plain": [
              "   age     bmi  children  ...  region_northwest  region_southeast  region_southwest\n",
              "0   19  27.900         0  ...                 0                 0                 1\n",
              "1   18  33.770         1  ...                 0                 1                 0\n",
              "2   28  33.000         3  ...                 0                 1                 0\n",
              "3   33  22.705         0  ...                 1                 0                 0\n",
              "4   32  28.880         0  ...                 1                 0                 0\n",
              "\n",
              "[5 rows x 11 columns]"
            ]
          },
          "metadata": {},
          "execution_count": 7
        }
      ]
    },
    {
      "cell_type": "code",
      "source": [
        "X.shape , y.shape"
      ],
      "metadata": {
        "colab": {
          "base_uri": "https://localhost:8080/"
        },
        "id": "HLFBgXCMOFvg",
        "outputId": "e1cb95e4-ebd9-4f82-e6fd-634b7178f2f2"
      },
      "execution_count": 8,
      "outputs": [
        {
          "output_type": "execute_result",
          "data": {
            "text/plain": [
              "((1338, 11), (1338,))"
            ]
          },
          "metadata": {},
          "execution_count": 8
        }
      ]
    },
    {
      "cell_type": "code",
      "source": [
        "# Create training and test sets\n",
        "from sklearn.model_selection import train_test_split\n",
        "X_train, X_test, y_train, y_test = train_test_split(X, \n",
        "                                                    y, \n",
        "                                                    test_size=0.2, \n",
        "                                                    random_state=42) # set random state for reproducible splits"
      ],
      "metadata": {
        "id": "NKyEhsYJOJMO"
      },
      "execution_count": 9,
      "outputs": []
    },
    {
      "cell_type": "code",
      "source": [
        "# Now we can build and fit a model."
      ],
      "metadata": {
        "id": "Wmo2PtNRQbyI"
      },
      "execution_count": 10,
      "outputs": []
    },
    {
      "cell_type": "code",
      "source": [
        "# Set random seed\n",
        "tf.random.set_seed(42)\n",
        "\n",
        "# Create a new model (same as model_2)\n",
        "insurance_model = tf.keras.Sequential([\n",
        "  tf.keras.layers.Dense(1),\n",
        "  tf.keras.layers.Dense(1)\n",
        "])\n",
        "\n",
        "# Compile the model\n",
        "insurance_model.compile(loss=tf.keras.losses.mae,\n",
        "                        optimizer=tf.keras.optimizers.SGD(),\n",
        "                        metrics=['mae'])\n",
        "\n",
        "# Fit the model\n",
        "insurance_model.fit(X_train, y_train, epochs=200)"
      ],
      "metadata": {
        "colab": {
          "base_uri": "https://localhost:8080/"
        },
        "id": "PMI3uTILQljA",
        "outputId": "be3c9714-2cfc-4746-95f7-f042aeddbd05"
      },
      "execution_count": 11,
      "outputs": [
        {
          "output_type": "stream",
          "name": "stdout",
          "text": [
            "Epoch 1/200\n",
            "34/34 [==============================] - 1s 5ms/step - loss: 8868.5918 - mae: 8868.5918\n",
            "Epoch 2/200\n",
            "34/34 [==============================] - 0s 5ms/step - loss: 7887.1597 - mae: 7887.1597\n",
            "Epoch 3/200\n",
            "34/34 [==============================] - 0s 4ms/step - loss: 7537.0947 - mae: 7537.0947\n",
            "Epoch 4/200\n",
            "34/34 [==============================] - 0s 3ms/step - loss: 7859.4336 - mae: 7859.4336\n",
            "Epoch 5/200\n",
            "34/34 [==============================] - 0s 5ms/step - loss: 7639.6699 - mae: 7639.6699\n",
            "Epoch 6/200\n",
            "34/34 [==============================] - 0s 4ms/step - loss: 7578.0840 - mae: 7578.0840\n",
            "Epoch 7/200\n",
            "34/34 [==============================] - 0s 4ms/step - loss: 7514.6162 - mae: 7514.6162\n",
            "Epoch 8/200\n",
            "34/34 [==============================] - 0s 4ms/step - loss: 7694.1348 - mae: 7694.1348\n",
            "Epoch 9/200\n",
            "34/34 [==============================] - 0s 6ms/step - loss: 7595.9121 - mae: 7595.9121\n",
            "Epoch 10/200\n",
            "34/34 [==============================] - 0s 4ms/step - loss: 7735.9106 - mae: 7735.9106\n",
            "Epoch 11/200\n",
            "34/34 [==============================] - 0s 5ms/step - loss: 7444.4185 - mae: 7444.4185\n",
            "Epoch 12/200\n",
            "34/34 [==============================] - 0s 4ms/step - loss: 7678.0332 - mae: 7678.0332\n",
            "Epoch 13/200\n",
            "34/34 [==============================] - 0s 4ms/step - loss: 7681.5835 - mae: 7681.5835\n",
            "Epoch 14/200\n",
            "34/34 [==============================] - 0s 6ms/step - loss: 7702.2842 - mae: 7702.2842\n",
            "Epoch 15/200\n",
            "34/34 [==============================] - 0s 4ms/step - loss: 7585.8931 - mae: 7585.8931\n",
            "Epoch 16/200\n",
            "34/34 [==============================] - 0s 6ms/step - loss: 7689.5356 - mae: 7689.5356\n",
            "Epoch 17/200\n",
            "34/34 [==============================] - 0s 4ms/step - loss: 7509.2036 - mae: 7509.2036\n",
            "Epoch 18/200\n",
            "34/34 [==============================] - 0s 4ms/step - loss: 7695.0083 - mae: 7695.0083\n",
            "Epoch 19/200\n",
            "34/34 [==============================] - 0s 5ms/step - loss: 7669.3740 - mae: 7669.3740\n",
            "Epoch 20/200\n",
            "34/34 [==============================] - 0s 5ms/step - loss: 7901.1362 - mae: 7901.1362\n",
            "Epoch 21/200\n",
            "34/34 [==============================] - 0s 4ms/step - loss: 7552.4819 - mae: 7552.4819\n",
            "Epoch 22/200\n",
            "34/34 [==============================] - 0s 4ms/step - loss: 7844.9971 - mae: 7844.9971\n",
            "Epoch 23/200\n",
            "34/34 [==============================] - 0s 4ms/step - loss: 7642.2505 - mae: 7642.2505\n",
            "Epoch 24/200\n",
            "34/34 [==============================] - 0s 4ms/step - loss: 7515.3096 - mae: 7515.3096\n",
            "Epoch 25/200\n",
            "34/34 [==============================] - 0s 4ms/step - loss: 7678.3521 - mae: 7678.3521\n",
            "Epoch 26/200\n",
            "34/34 [==============================] - 0s 4ms/step - loss: 7653.0283 - mae: 7653.0283\n",
            "Epoch 27/200\n",
            "34/34 [==============================] - 0s 5ms/step - loss: 7559.5464 - mae: 7559.5464\n",
            "Epoch 28/200\n",
            "34/34 [==============================] - 0s 4ms/step - loss: 7459.9404 - mae: 7459.9404\n",
            "Epoch 29/200\n",
            "34/34 [==============================] - 0s 5ms/step - loss: 7618.6182 - mae: 7618.6182\n",
            "Epoch 30/200\n",
            "34/34 [==============================] - 0s 4ms/step - loss: 7628.6250 - mae: 7628.6250\n",
            "Epoch 31/200\n",
            "34/34 [==============================] - 0s 4ms/step - loss: 7540.4888 - mae: 7540.4888\n",
            "Epoch 32/200\n",
            "34/34 [==============================] - 0s 3ms/step - loss: 7486.0176 - mae: 7486.0176\n",
            "Epoch 33/200\n",
            "34/34 [==============================] - 0s 5ms/step - loss: 7418.6636 - mae: 7418.6636\n",
            "Epoch 34/200\n",
            "34/34 [==============================] - 0s 6ms/step - loss: 7480.7305 - mae: 7480.7305\n",
            "Epoch 35/200\n",
            "34/34 [==============================] - 0s 4ms/step - loss: 7615.3110 - mae: 7615.3110\n",
            "Epoch 36/200\n",
            "34/34 [==============================] - 0s 3ms/step - loss: 7566.7886 - mae: 7566.7886\n",
            "Epoch 37/200\n",
            "34/34 [==============================] - 0s 6ms/step - loss: 7661.0869 - mae: 7661.0869\n",
            "Epoch 38/200\n",
            "34/34 [==============================] - 0s 5ms/step - loss: 7522.6816 - mae: 7522.6816\n",
            "Epoch 39/200\n",
            "34/34 [==============================] - 0s 4ms/step - loss: 7556.0698 - mae: 7556.0698\n",
            "Epoch 40/200\n",
            "34/34 [==============================] - 0s 4ms/step - loss: 7433.5664 - mae: 7433.5664\n",
            "Epoch 41/200\n",
            "34/34 [==============================] - 0s 4ms/step - loss: 7722.4321 - mae: 7722.4321\n",
            "Epoch 42/200\n",
            "34/34 [==============================] - 0s 5ms/step - loss: 7344.2690 - mae: 7344.2690\n",
            "Epoch 43/200\n",
            "34/34 [==============================] - 0s 4ms/step - loss: 7597.4331 - mae: 7597.4331\n",
            "Epoch 44/200\n",
            "34/34 [==============================] - 0s 3ms/step - loss: 7338.0142 - mae: 7338.0142\n",
            "Epoch 45/200\n",
            "34/34 [==============================] - 0s 3ms/step - loss: 7510.3462 - mae: 7510.3462\n",
            "Epoch 46/200\n",
            "34/34 [==============================] - 0s 3ms/step - loss: 7413.5796 - mae: 7413.5796\n",
            "Epoch 47/200\n",
            "34/34 [==============================] - 0s 5ms/step - loss: 7451.0391 - mae: 7451.0391\n",
            "Epoch 48/200\n",
            "34/34 [==============================] - 0s 4ms/step - loss: 7340.5386 - mae: 7340.5386\n",
            "Epoch 49/200\n",
            "34/34 [==============================] - 0s 4ms/step - loss: 7481.9971 - mae: 7481.9971\n",
            "Epoch 50/200\n",
            "34/34 [==============================] - 0s 5ms/step - loss: 7468.2852 - mae: 7468.2852\n",
            "Epoch 51/200\n",
            "34/34 [==============================] - 0s 5ms/step - loss: 7411.3418 - mae: 7411.3418\n",
            "Epoch 52/200\n",
            "34/34 [==============================] - 0s 4ms/step - loss: 7460.0806 - mae: 7460.0806\n",
            "Epoch 53/200\n",
            "34/34 [==============================] - 0s 3ms/step - loss: 7601.6606 - mae: 7601.6606\n",
            "Epoch 54/200\n",
            "34/34 [==============================] - 0s 4ms/step - loss: 7241.2549 - mae: 7241.2549\n",
            "Epoch 55/200\n",
            "34/34 [==============================] - 0s 6ms/step - loss: 7539.6948 - mae: 7539.6948\n",
            "Epoch 56/200\n",
            "34/34 [==============================] - 0s 3ms/step - loss: 7293.2012 - mae: 7293.2012\n",
            "Epoch 57/200\n",
            "34/34 [==============================] - 0s 4ms/step - loss: 7417.9722 - mae: 7417.9722\n",
            "Epoch 58/200\n",
            "34/34 [==============================] - 0s 4ms/step - loss: 7353.0615 - mae: 7353.0615\n",
            "Epoch 59/200\n",
            "34/34 [==============================] - 0s 5ms/step - loss: 7643.8242 - mae: 7643.8242\n",
            "Epoch 60/200\n",
            "34/34 [==============================] - 0s 5ms/step - loss: 7410.3989 - mae: 7410.3989\n",
            "Epoch 61/200\n",
            "34/34 [==============================] - 0s 5ms/step - loss: 7612.8340 - mae: 7612.8340\n",
            "Epoch 62/200\n",
            "34/34 [==============================] - 0s 4ms/step - loss: 7387.9087 - mae: 7387.9087\n",
            "Epoch 63/200\n",
            "34/34 [==============================] - 0s 5ms/step - loss: 7359.5596 - mae: 7359.5596\n",
            "Epoch 64/200\n",
            "34/34 [==============================] - 0s 5ms/step - loss: 7109.0879 - mae: 7109.0879\n",
            "Epoch 65/200\n",
            "34/34 [==============================] - 0s 5ms/step - loss: 7396.3223 - mae: 7396.3223\n",
            "Epoch 66/200\n",
            "34/34 [==============================] - 0s 6ms/step - loss: 7179.8618 - mae: 7179.8618\n",
            "Epoch 67/200\n",
            "34/34 [==============================] - 0s 5ms/step - loss: 7289.7710 - mae: 7289.7710\n",
            "Epoch 68/200\n",
            "34/34 [==============================] - 0s 4ms/step - loss: 7523.6968 - mae: 7523.6968\n",
            "Epoch 69/200\n",
            "34/34 [==============================] - 0s 4ms/step - loss: 7442.6157 - mae: 7442.6157\n",
            "Epoch 70/200\n",
            "34/34 [==============================] - 0s 4ms/step - loss: 7673.4829 - mae: 7673.4829\n",
            "Epoch 71/200\n",
            "34/34 [==============================] - 0s 5ms/step - loss: 7276.0332 - mae: 7276.0332\n",
            "Epoch 72/200\n",
            "34/34 [==============================] - 0s 4ms/step - loss: 7246.3726 - mae: 7246.3726\n",
            "Epoch 73/200\n",
            "34/34 [==============================] - 0s 4ms/step - loss: 7372.0708 - mae: 7372.0708\n",
            "Epoch 74/200\n",
            "34/34 [==============================] - 0s 4ms/step - loss: 7512.0742 - mae: 7512.0742\n",
            "Epoch 75/200\n",
            "34/34 [==============================] - 0s 4ms/step - loss: 7269.7441 - mae: 7269.7441\n",
            "Epoch 76/200\n",
            "34/34 [==============================] - 0s 5ms/step - loss: 7199.5054 - mae: 7199.5054\n",
            "Epoch 77/200\n",
            "34/34 [==============================] - 0s 5ms/step - loss: 7261.2925 - mae: 7261.2925\n",
            "Epoch 78/200\n",
            "34/34 [==============================] - 0s 5ms/step - loss: 7185.7632 - mae: 7185.7632\n",
            "Epoch 79/200\n",
            "34/34 [==============================] - 0s 4ms/step - loss: 7301.7490 - mae: 7301.7490\n",
            "Epoch 80/200\n",
            "34/34 [==============================] - 0s 4ms/step - loss: 7002.6313 - mae: 7002.6313\n",
            "Epoch 81/200\n",
            "34/34 [==============================] - 0s 4ms/step - loss: 7289.1362 - mae: 7289.1362\n",
            "Epoch 82/200\n",
            "34/34 [==============================] - 0s 4ms/step - loss: 7155.3945 - mae: 7155.3945\n",
            "Epoch 83/200\n",
            "34/34 [==============================] - 0s 6ms/step - loss: 7475.1709 - mae: 7475.1709\n",
            "Epoch 84/200\n",
            "34/34 [==============================] - 0s 5ms/step - loss: 7387.3672 - mae: 7387.3672\n",
            "Epoch 85/200\n",
            "34/34 [==============================] - 0s 5ms/step - loss: 7289.9453 - mae: 7289.9453\n",
            "Epoch 86/200\n",
            "34/34 [==============================] - 0s 4ms/step - loss: 7268.0947 - mae: 7268.0947\n",
            "Epoch 87/200\n",
            "34/34 [==============================] - 0s 4ms/step - loss: 7238.5869 - mae: 7238.5869\n",
            "Epoch 88/200\n",
            "34/34 [==============================] - 0s 3ms/step - loss: 7201.7344 - mae: 7201.7344\n",
            "Epoch 89/200\n",
            "34/34 [==============================] - 0s 4ms/step - loss: 7538.0747 - mae: 7538.0747\n",
            "Epoch 90/200\n",
            "34/34 [==============================] - 0s 5ms/step - loss: 6967.1172 - mae: 6967.1172\n",
            "Epoch 91/200\n",
            "34/34 [==============================] - 0s 4ms/step - loss: 7314.1289 - mae: 7314.1289\n",
            "Epoch 92/200\n",
            "34/34 [==============================] - 0s 5ms/step - loss: 7192.3115 - mae: 7192.3115\n",
            "Epoch 93/200\n",
            "34/34 [==============================] - 0s 4ms/step - loss: 7530.8770 - mae: 7530.8770\n",
            "Epoch 94/200\n",
            "34/34 [==============================] - 0s 4ms/step - loss: 7187.3579 - mae: 7187.3579\n",
            "Epoch 95/200\n",
            "34/34 [==============================] - 0s 5ms/step - loss: 7561.5630 - mae: 7561.5630\n",
            "Epoch 96/200\n",
            "34/34 [==============================] - 0s 4ms/step - loss: 7263.4639 - mae: 7263.4639\n",
            "Epoch 97/200\n",
            "34/34 [==============================] - 0s 4ms/step - loss: 7146.2900 - mae: 7146.2900\n",
            "Epoch 98/200\n",
            "34/34 [==============================] - 0s 4ms/step - loss: 7247.9248 - mae: 7247.9248\n",
            "Epoch 99/200\n",
            "34/34 [==============================] - 0s 4ms/step - loss: 7200.6689 - mae: 7200.6689\n",
            "Epoch 100/200\n",
            "34/34 [==============================] - 0s 3ms/step - loss: 7301.6870 - mae: 7301.6870\n",
            "Epoch 101/200\n",
            "34/34 [==============================] - 0s 4ms/step - loss: 7419.2090 - mae: 7419.2090\n",
            "Epoch 102/200\n",
            "34/34 [==============================] - 0s 4ms/step - loss: 7234.2720 - mae: 7234.2720\n",
            "Epoch 103/200\n",
            "34/34 [==============================] - 0s 5ms/step - loss: 7313.4160 - mae: 7313.4160\n",
            "Epoch 104/200\n",
            "34/34 [==============================] - 0s 4ms/step - loss: 7212.6792 - mae: 7212.6792\n",
            "Epoch 105/200\n",
            "34/34 [==============================] - 0s 5ms/step - loss: 7337.2915 - mae: 7337.2915\n",
            "Epoch 106/200\n",
            "34/34 [==============================] - 0s 5ms/step - loss: 7324.0771 - mae: 7324.0771\n",
            "Epoch 107/200\n",
            "34/34 [==============================] - 0s 4ms/step - loss: 7352.6919 - mae: 7352.6919\n",
            "Epoch 108/200\n",
            "34/34 [==============================] - 0s 4ms/step - loss: 7437.6611 - mae: 7437.6611\n",
            "Epoch 109/200\n",
            "34/34 [==============================] - 0s 6ms/step - loss: 7294.6143 - mae: 7294.6143\n",
            "Epoch 110/200\n",
            "34/34 [==============================] - 0s 4ms/step - loss: 7306.4927 - mae: 7306.4927\n",
            "Epoch 111/200\n",
            "34/34 [==============================] - 0s 4ms/step - loss: 6953.5728 - mae: 6953.5728\n",
            "Epoch 112/200\n",
            "34/34 [==============================] - 0s 4ms/step - loss: 7376.5308 - mae: 7376.5308\n",
            "Epoch 113/200\n",
            "34/34 [==============================] - 0s 4ms/step - loss: 7232.7075 - mae: 7232.7075\n",
            "Epoch 114/200\n",
            "34/34 [==============================] - 0s 4ms/step - loss: 7094.4712 - mae: 7094.4712\n",
            "Epoch 115/200\n",
            "34/34 [==============================] - 0s 5ms/step - loss: 6929.4165 - mae: 6929.4165\n",
            "Epoch 116/200\n",
            "34/34 [==============================] - 0s 4ms/step - loss: 7365.2554 - mae: 7365.2554\n",
            "Epoch 117/200\n",
            "34/34 [==============================] - 0s 5ms/step - loss: 7256.9927 - mae: 7256.9927\n",
            "Epoch 118/200\n",
            "34/34 [==============================] - 0s 5ms/step - loss: 7108.5400 - mae: 7108.5400\n",
            "Epoch 119/200\n",
            "34/34 [==============================] - 0s 4ms/step - loss: 7113.6953 - mae: 7113.6953\n",
            "Epoch 120/200\n",
            "34/34 [==============================] - 0s 4ms/step - loss: 7052.3599 - mae: 7052.3599\n",
            "Epoch 121/200\n",
            "34/34 [==============================] - 0s 2ms/step - loss: 7093.4663 - mae: 7093.4663\n",
            "Epoch 122/200\n",
            "34/34 [==============================] - 0s 2ms/step - loss: 7354.5386 - mae: 7354.5386\n",
            "Epoch 123/200\n",
            "34/34 [==============================] - 0s 3ms/step - loss: 7120.3350 - mae: 7120.3350\n",
            "Epoch 124/200\n",
            "34/34 [==============================] - 0s 2ms/step - loss: 7087.1172 - mae: 7087.1172\n",
            "Epoch 125/200\n",
            "34/34 [==============================] - 0s 3ms/step - loss: 7173.8149 - mae: 7173.8149\n",
            "Epoch 126/200\n",
            "34/34 [==============================] - 0s 2ms/step - loss: 7089.7012 - mae: 7089.7012\n",
            "Epoch 127/200\n",
            "34/34 [==============================] - 0s 2ms/step - loss: 7290.3623 - mae: 7290.3623\n",
            "Epoch 128/200\n",
            "34/34 [==============================] - 0s 2ms/step - loss: 6959.6138 - mae: 6959.6138\n",
            "Epoch 129/200\n",
            "34/34 [==============================] - 0s 2ms/step - loss: 7150.4185 - mae: 7150.4185\n",
            "Epoch 130/200\n",
            "34/34 [==============================] - 0s 3ms/step - loss: 7199.0054 - mae: 7199.0054\n",
            "Epoch 131/200\n",
            "34/34 [==============================] - 0s 3ms/step - loss: 7078.9478 - mae: 7078.9478\n",
            "Epoch 132/200\n",
            "34/34 [==============================] - 0s 3ms/step - loss: 7102.4688 - mae: 7102.4688\n",
            "Epoch 133/200\n",
            "34/34 [==============================] - 0s 2ms/step - loss: 7032.5659 - mae: 7032.5659\n",
            "Epoch 134/200\n",
            "34/34 [==============================] - 0s 2ms/step - loss: 7337.3091 - mae: 7337.3091\n",
            "Epoch 135/200\n",
            "34/34 [==============================] - 0s 3ms/step - loss: 7047.8193 - mae: 7047.8193\n",
            "Epoch 136/200\n",
            "34/34 [==============================] - 0s 3ms/step - loss: 7106.0811 - mae: 7106.0811\n",
            "Epoch 137/200\n",
            "34/34 [==============================] - 0s 2ms/step - loss: 7145.2979 - mae: 7145.2979\n",
            "Epoch 138/200\n",
            "34/34 [==============================] - 0s 3ms/step - loss: 7034.4727 - mae: 7034.4727\n",
            "Epoch 139/200\n",
            "34/34 [==============================] - 0s 2ms/step - loss: 7083.7202 - mae: 7083.7202\n",
            "Epoch 140/200\n",
            "34/34 [==============================] - 0s 2ms/step - loss: 7148.0132 - mae: 7148.0132\n",
            "Epoch 141/200\n",
            "34/34 [==============================] - 0s 3ms/step - loss: 7310.2573 - mae: 7310.2573\n",
            "Epoch 142/200\n",
            "34/34 [==============================] - 0s 2ms/step - loss: 6807.2720 - mae: 6807.2720\n",
            "Epoch 143/200\n",
            "34/34 [==============================] - 0s 3ms/step - loss: 7314.5601 - mae: 7314.5601\n",
            "Epoch 144/200\n",
            "34/34 [==============================] - 0s 2ms/step - loss: 6983.7046 - mae: 6983.7046\n",
            "Epoch 145/200\n",
            "34/34 [==============================] - 0s 2ms/step - loss: 7145.4272 - mae: 7145.4272\n",
            "Epoch 146/200\n",
            "34/34 [==============================] - 0s 2ms/step - loss: 6716.8433 - mae: 6716.8433\n",
            "Epoch 147/200\n",
            "34/34 [==============================] - 0s 3ms/step - loss: 7086.4609 - mae: 7086.4609\n",
            "Epoch 148/200\n",
            "34/34 [==============================] - 0s 2ms/step - loss: 7117.6865 - mae: 7117.6865\n",
            "Epoch 149/200\n",
            "34/34 [==============================] - 0s 2ms/step - loss: 6974.6006 - mae: 6974.6006\n",
            "Epoch 150/200\n",
            "34/34 [==============================] - 0s 2ms/step - loss: 7212.0054 - mae: 7212.0054\n",
            "Epoch 151/200\n",
            "34/34 [==============================] - 0s 2ms/step - loss: 7035.1553 - mae: 7035.1553\n",
            "Epoch 152/200\n",
            "34/34 [==============================] - 0s 3ms/step - loss: 6809.2822 - mae: 6809.2822\n",
            "Epoch 153/200\n",
            "34/34 [==============================] - 0s 2ms/step - loss: 7121.9258 - mae: 7121.9258\n",
            "Epoch 154/200\n",
            "34/34 [==============================] - 0s 3ms/step - loss: 6767.1504 - mae: 6767.1504\n",
            "Epoch 155/200\n",
            "34/34 [==============================] - 0s 3ms/step - loss: 6924.1606 - mae: 6924.1606\n",
            "Epoch 156/200\n",
            "34/34 [==============================] - 0s 2ms/step - loss: 6837.3843 - mae: 6837.3843\n",
            "Epoch 157/200\n",
            "34/34 [==============================] - 0s 2ms/step - loss: 6991.5029 - mae: 6991.5029\n",
            "Epoch 158/200\n",
            "34/34 [==============================] - 0s 2ms/step - loss: 6770.6436 - mae: 6770.6436\n",
            "Epoch 159/200\n",
            "34/34 [==============================] - 0s 2ms/step - loss: 6908.8223 - mae: 6908.8223\n",
            "Epoch 160/200\n",
            "34/34 [==============================] - 0s 2ms/step - loss: 7004.0522 - mae: 7004.0522\n",
            "Epoch 161/200\n",
            "34/34 [==============================] - 0s 2ms/step - loss: 6894.5498 - mae: 6894.5498\n",
            "Epoch 162/200\n",
            "34/34 [==============================] - 0s 3ms/step - loss: 7087.3467 - mae: 7087.3467\n",
            "Epoch 163/200\n",
            "34/34 [==============================] - 0s 2ms/step - loss: 6916.0620 - mae: 6916.0620\n",
            "Epoch 164/200\n",
            "34/34 [==============================] - 0s 3ms/step - loss: 7202.6982 - mae: 7202.6982\n",
            "Epoch 165/200\n",
            "34/34 [==============================] - 0s 2ms/step - loss: 6995.7222 - mae: 6995.7222\n",
            "Epoch 166/200\n",
            "34/34 [==============================] - 0s 2ms/step - loss: 6980.2070 - mae: 6980.2070\n",
            "Epoch 167/200\n",
            "34/34 [==============================] - 0s 2ms/step - loss: 6965.1743 - mae: 6965.1743\n",
            "Epoch 168/200\n",
            "34/34 [==============================] - 0s 2ms/step - loss: 7208.8828 - mae: 7208.8828\n",
            "Epoch 169/200\n",
            "34/34 [==============================] - 0s 2ms/step - loss: 7032.9277 - mae: 7032.9277\n",
            "Epoch 170/200\n",
            "34/34 [==============================] - 0s 2ms/step - loss: 6856.5967 - mae: 6856.5967\n",
            "Epoch 171/200\n",
            "34/34 [==============================] - 0s 2ms/step - loss: 7103.8198 - mae: 7103.8198\n",
            "Epoch 172/200\n",
            "34/34 [==============================] - 0s 2ms/step - loss: 6972.7593 - mae: 6972.7593\n",
            "Epoch 173/200\n",
            "34/34 [==============================] - 0s 2ms/step - loss: 6643.2534 - mae: 6643.2534\n",
            "Epoch 174/200\n",
            "34/34 [==============================] - 0s 2ms/step - loss: 6809.7417 - mae: 6809.7417\n",
            "Epoch 175/200\n",
            "34/34 [==============================] - 0s 3ms/step - loss: 6806.8535 - mae: 6806.8535\n",
            "Epoch 176/200\n",
            "34/34 [==============================] - 0s 2ms/step - loss: 6656.4331 - mae: 6656.4331\n",
            "Epoch 177/200\n",
            "34/34 [==============================] - 0s 3ms/step - loss: 6582.6421 - mae: 6582.6421\n",
            "Epoch 178/200\n",
            "34/34 [==============================] - 0s 2ms/step - loss: 6974.5469 - mae: 6974.5469\n",
            "Epoch 179/200\n",
            "34/34 [==============================] - 0s 2ms/step - loss: 6734.3984 - mae: 6734.3984\n",
            "Epoch 180/200\n",
            "34/34 [==============================] - 0s 3ms/step - loss: 6810.9946 - mae: 6810.9946\n",
            "Epoch 181/200\n",
            "34/34 [==============================] - 0s 2ms/step - loss: 6989.2061 - mae: 6989.2061\n",
            "Epoch 182/200\n",
            "34/34 [==============================] - 0s 2ms/step - loss: 7020.3965 - mae: 7020.3965\n",
            "Epoch 183/200\n",
            "34/34 [==============================] - 0s 2ms/step - loss: 6856.1499 - mae: 6856.1499\n",
            "Epoch 184/200\n",
            "34/34 [==============================] - 0s 2ms/step - loss: 7019.7271 - mae: 7019.7271\n",
            "Epoch 185/200\n",
            "34/34 [==============================] - 0s 2ms/step - loss: 6785.8208 - mae: 6785.8208\n",
            "Epoch 186/200\n",
            "34/34 [==============================] - 0s 3ms/step - loss: 6933.7422 - mae: 6933.7422\n",
            "Epoch 187/200\n",
            "34/34 [==============================] - 0s 2ms/step - loss: 7008.2520 - mae: 7008.2520\n",
            "Epoch 188/200\n",
            "34/34 [==============================] - 0s 2ms/step - loss: 6749.5288 - mae: 6749.5288\n",
            "Epoch 189/200\n",
            "34/34 [==============================] - 0s 2ms/step - loss: 6704.5049 - mae: 6704.5049\n",
            "Epoch 190/200\n",
            "34/34 [==============================] - 0s 2ms/step - loss: 6632.5796 - mae: 6632.5796\n",
            "Epoch 191/200\n",
            "34/34 [==============================] - 0s 2ms/step - loss: 6832.2568 - mae: 6832.2568\n",
            "Epoch 192/200\n",
            "34/34 [==============================] - 0s 2ms/step - loss: 6974.4722 - mae: 6974.4722\n",
            "Epoch 193/200\n",
            "34/34 [==============================] - 0s 2ms/step - loss: 6785.7842 - mae: 6785.7842\n",
            "Epoch 194/200\n",
            "34/34 [==============================] - 0s 3ms/step - loss: 6830.8066 - mae: 6830.8066\n",
            "Epoch 195/200\n",
            "34/34 [==============================] - 0s 2ms/step - loss: 6538.9731 - mae: 6538.9731\n",
            "Epoch 196/200\n",
            "34/34 [==============================] - 0s 2ms/step - loss: 6692.0220 - mae: 6692.0220\n",
            "Epoch 197/200\n",
            "34/34 [==============================] - 0s 2ms/step - loss: 6575.9185 - mae: 6575.9185\n",
            "Epoch 198/200\n",
            "34/34 [==============================] - 0s 3ms/step - loss: 7176.3052 - mae: 7176.3052\n",
            "Epoch 199/200\n",
            "34/34 [==============================] - 0s 2ms/step - loss: 6658.1758 - mae: 6658.1758\n",
            "Epoch 200/200\n",
            "34/34 [==============================] - 0s 3ms/step - loss: 6733.1597 - mae: 6733.1597\n"
          ]
        },
        {
          "output_type": "execute_result",
          "data": {
            "text/plain": [
              "<keras.callbacks.History at 0x7f17a008dfd0>"
            ]
          },
          "metadata": {},
          "execution_count": 11
        }
      ]
    },
    {
      "cell_type": "code",
      "source": [
        "# Check the results of the insurance model\n",
        "insurance_model.evaluate(X_test, y_test)"
      ],
      "metadata": {
        "colab": {
          "base_uri": "https://localhost:8080/"
        },
        "id": "HaYw1L2FRTa8",
        "outputId": "bdd0dee0-60a6-46e8-d749-16d29b60295a"
      },
      "execution_count": 12,
      "outputs": [
        {
          "output_type": "stream",
          "name": "stdout",
          "text": [
            "9/9 [==============================] - 0s 2ms/step - loss: 6301.6475 - mae: 6301.6475\n"
          ]
        },
        {
          "output_type": "execute_result",
          "data": {
            "text/plain": [
              "[6301.6474609375, 6301.6474609375]"
            ]
          },
          "metadata": {},
          "execution_count": 12
        }
      ]
    },
    {
      "cell_type": "markdown",
      "source": [
        "# Our model didn't perform very well, let's try a bigger model.\n",
        "\n",
        "**We'll try 3 things:**\n",
        "\n",
        "Increasing the number of layers (2 -> 3).\n",
        "\n",
        "Increasing the number of units in each layer (except for the output layer).\n",
        "\n",
        "Changing the optimizer (from SGD to Adam).\n",
        "\n",
        "Everything else will stay the same. "
      ],
      "metadata": {
        "id": "gNBBeYy0V4EL"
      }
    },
    {
      "cell_type": "code",
      "source": [
        "# Set random seed\n",
        "tf.random.set_seed(42)\n",
        "\n",
        "# Add an extra layer and increase number of units\n",
        "insurance_model_2 = tf.keras.Sequential([\n",
        "  tf.keras.layers.Dense(100), # 100 units\n",
        "  tf.keras.layers.Dense(10), # 10 units\n",
        "  tf.keras.layers.Dense(1) # 1 unit (important for output layer)\n",
        "])\n",
        "\n",
        "# Compile the model\n",
        "insurance_model_2.compile(loss=tf.keras.losses.mae,\n",
        "                          optimizer=tf.keras.optimizers.Adam(), # Adam works but SGD doesn't \n",
        "                          metrics=['mae'])\n",
        "# Fit the model and save the history (we can plot this)\n",
        "history = insurance_model_2.fit(X_train, y_train, epochs=100, verbose=0)"
      ],
      "metadata": {
        "id": "QAUzvnBZWLcp"
      },
      "execution_count": 13,
      "outputs": []
    },
    {
      "cell_type": "code",
      "source": [
        "# Evaluate our larger model\n",
        "insurance_model_2.evaluate(X_test, y_test)"
      ],
      "metadata": {
        "colab": {
          "base_uri": "https://localhost:8080/"
        },
        "id": "T00EyLTCV6Nj",
        "outputId": "0cb156cb-ee85-45e2-bac9-5b155307291f"
      },
      "execution_count": 14,
      "outputs": [
        {
          "output_type": "stream",
          "name": "stdout",
          "text": [
            "9/9 [==============================] - 0s 2ms/step - loss: 4924.5107 - mae: 4924.5107\n"
          ]
        },
        {
          "output_type": "execute_result",
          "data": {
            "text/plain": [
              "[4924.5107421875, 4924.5107421875]"
            ]
          },
          "metadata": {},
          "execution_count": 14
        }
      ]
    },
    {
      "cell_type": "markdown",
      "source": [
        "Much better! Using a larger model and the Adam optimizer \n",
        "\n",
        "results in almost half the error as the previous model.\n",
        "\n",
        "🔑 **Note:** For many problems, the Adam optimizer is a \n",
        ">great starting choice. \n",
        "\n",
        "Let's check out the loss curves of our model, we should \n",
        "\n",
        "see a downward trend."
      ],
      "metadata": {
        "id": "QPMkwiZSWF0Z"
      }
    },
    {
      "cell_type": "code",
      "source": [
        "# Plot history (also known as a loss curve)\n",
        "pd.DataFrame(history.history).plot()\n",
        "plt.ylabel(\"loss\")\n",
        "plt.xlabel(\"epochs\");"
      ],
      "metadata": {
        "colab": {
          "base_uri": "https://localhost:8080/",
          "height": 279
        },
        "id": "GUfirsp1Wofr",
        "outputId": "1beb7ba8-8d77-454b-92a9-f3ae4e5f5e0a"
      },
      "execution_count": 15,
      "outputs": [
        {
          "output_type": "display_data",
          "data": {
            "image/png": "[encoded data removed]",
            "text/plain": [
              "<Figure size 432x288 with 1 Axes>"
            ]
          },
          "metadata": {
            "needs_background": "light"
          }
        }
      ]
    },
    {
      "cell_type": "markdown",
      "source": [
        "**From this, it looks like our model's loss (and MAE) were both still decreasing (in our case, MAE and loss are the same, hence the lines in the plot overlap eachother).**\n",
        "\n",
        "**What this tells us is the loss might go down if we try training it for longer.**\n",
        "\n",
        "🤔 **Question:** How long should you train for?\n",
        "\n",
        "**It depends on what problem you're working on. Sometimes training won't take very long, other times it'll take longer than you expect. A common method is to set your model training for a very long time (e.g. 1000's of epochs) but set it up with an EarlyStopping callback so it stops automatically when it stops improving. We'll see this in another module.**\n",
        "\n",
        "**Let's train the same model as above for a little longer. We can do this but calling fit on it again.**"
      ],
      "metadata": {
        "id": "5PsKmxF2W_TN"
      }
    },
    {
      "cell_type": "code",
      "source": [
        "# Try training for a little longer (100 more epochs)\n",
        "history_2 = insurance_model_2.fit(X_train, y_train, epochs=100, verbose=0)"
      ],
      "metadata": {
        "id": "Q3GiK_ZYWaiw"
      },
      "execution_count": 16,
      "outputs": []
    },
    {
      "cell_type": "code",
      "source": [
        "# Evaluate the model trained for 200 total epochs\n",
        "insurance_model_2_loss, insurance_model_2_mae = insurance_model_2.evaluate(X_test, y_test)\n",
        "insurance_model_2_loss, insurance_model_2_mae"
      ],
      "metadata": {
        "colab": {
          "base_uri": "https://localhost:8080/"
        },
        "id": "ak0nLOICYoA6",
        "outputId": "3c65d31e-c242-424d-daba-db05ffd08bdd"
      },
      "execution_count": 17,
      "outputs": [
        {
          "output_type": "stream",
          "name": "stdout",
          "text": [
            "9/9 [==============================] - 0s 2ms/step - loss: 3495.8025 - mae: 3495.8025\n"
          ]
        },
        {
          "output_type": "execute_result",
          "data": {
            "text/plain": [
              "(3495.802490234375, 3495.802490234375)"
            ]
          },
          "metadata": {},
          "execution_count": 17
        }
      ]
    },
    {
      "cell_type": "markdown",
      "source": [
        " Training for an extra 100 epochs we see about a 25% decrease in error.\n",
        "\n",
        "**How does the visual look? **"
      ],
      "metadata": {
        "id": "yhlMbWk_ZHz_"
      }
    },
    {
      "cell_type": "code",
      "source": [
        "# Plot the model trained for 200 total epochs loss curves\n",
        "pd.DataFrame(history_2.history).plot()\n",
        "plt.ylabel(\"loss\")\n",
        "plt.xlabel(\"epochs\"); # note: epochs will only show 100 since we overrid the history variable"
      ],
      "metadata": {
        "colab": {
          "base_uri": "https://localhost:8080/",
          "height": 279
        },
        "id": "QufaAk1uZWiI",
        "outputId": "5180ce0e-798c-4f34-fa6d-a89a63d45f3d"
      },
      "execution_count": 18,
      "outputs": [
        {
          "output_type": "display_data",
          "data": {
            "image/png": "[encoded data removed]",
            "text/plain": [
              "<Figure size 432x288 with 1 Axes>"
            ]
          },
          "metadata": {
            "needs_background": "light"
          }
        }
      ]
    },
    {
      "cell_type": "markdown",
      "source": [
        "## Preprocessing data (normalization and standardization)"
      ],
      "metadata": {
        "id": "g4zl3vvabA25"
      }
    },
    {
      "cell_type": "markdown",
      "source": [
        "*A common practice when working with neural networks is to make sure all of the data you pass to them is in the range 0 to 1.*\n",
        "\n",
        "This practice is called **normalization** (scaling all values from their original range to, e.g. between 0 and 100,000 to be between 0 and 1).\n",
        "\n",
        "There is another process call **standardization** which converts all of your data to unit variance and 0 mean.\n",
        "\n",
        "*These two practices are often part of a preprocessing pipeline (a series of functions to prepare your data for use with neural networks).*\n",
        "\n",
        "*Knowing this, some of the major steps you'll take to preprocess your data for a neural network include:*\n",
        "\n",
        "**Turning all of your data to numbers (a neural network can't handle strings).**\n",
        "\n",
        "**Making sure your data is in the right shape (verifying input and output shapes).** "
      ],
      "metadata": {
        "id": "Zkyxt3OMbEwr"
      }
    },
    {
      "cell_type": "markdown",
      "source": [
        "# [Feature scaling](https://scikit-learn.org/stable/modules/preprocessing.html#preprocessing-scaler)\n"
      ],
      "metadata": {
        "id": "Hr4GTD-ibwjv"
      }
    },
    {
      "cell_type": "markdown",
      "source": [
        "**Normalizing data** \n",
        "\n",
        "**(making sure all values are between 0 and 1). This is done by subtracting the minimum value then dividing by the maximum value minus the minmum. This is also referred to **\n",
        "\n",
        "**as min-max scaling.**\n",
        "\n",
        "**Standardization (making sure all values have a mean of 0 and a variance of 1). This is done by substracting the mean value from the target feature and then dividing it by the standard deviation.**\n"
      ],
      "metadata": {
        "id": "qNVa200kc8Ts"
      }
    },
    {
      "cell_type": "markdown",
      "source": [
        "## Which one should you use?"
      ],
      "metadata": {
        "id": "u0NhDHfedb-Z"
      }
    },
    {
      "cell_type": "markdown",
      "source": [
        "# With neural networks\n",
        "\n",
        "** you'll tend to favour normalization as they tend to **\n",
        "\n",
        ">prefer values between 0 and 1 (you'll see this espcially \n",
        "\n",
        ">with image processing), however, you'll often find a \n",
        "\n",
        ">neural network can perform pretty well with minimal >feature scaling"
      ],
      "metadata": {
        "id": "r92DtFrgdh0d"
      }
    },
    {
      "cell_type": "markdown",
      "source": [
        "# 📖 Resource\n",
        "[Scikit-Learn's documentation on preprocessing data.](https://scikit-learn.org/stable/modules/preprocessing.html#preprocessing-data)\n",
        "\n",
        "[Scale, Standardize or Normalize with Scikit-Learn by Jeff Hale.](https://towardsdatascience.com/scale-standardize-or-normalize-with-scikit-learn-6ccc7d176a02)\n"
      ],
      "metadata": {
        "id": "UhHscSB7eIwd"
      }
    },
    {
      "cell_type": "markdown",
      "source": [
        "We've already turned our data into numbers using get_dummies(), let's see how we'd normalize it as well."
      ],
      "metadata": {
        "id": "bbu3IRRRfAAf"
      }
    },
    {
      "cell_type": "code",
      "source": [
        "import pandas as pd\n",
        "import matplotlib.pyplot as plt\n",
        "import tensorflow as tf\n",
        "\n",
        "# Read in the insurance dataset\n",
        "insurance = pd.read_csv(\"https://raw.githubusercontent.com/stedy/Machine-Learning-with-R-datasets/master/insurance.csv\")"
      ],
      "metadata": {
        "id": "83gfW3ISfB-w"
      },
      "execution_count": 20,
      "outputs": []
    },
    {
      "cell_type": "code",
      "source": [
        "# Check out the data\n",
        "insurance.head()"
      ],
      "metadata": {
        "colab": {
          "base_uri": "https://localhost:8080/",
          "height": 206
        },
        "id": "5uYk-Oude1zk",
        "outputId": "fc8d3f5f-ff0c-4adc-e474-a2014a951249"
      },
      "execution_count": 21,
      "outputs": [
        {
          "output_type": "execute_result",
          "data": {
            "text/html": [
              "\n",
              "  <div id=\"df-7cb950ed-1a90-4155-9130-1fe4a70c60a1\">\n",
              "    <div class=\"colab-df-container\">\n",
              "      <div>\n",
              "<style scoped>\n",
              "    .dataframe tbody tr th:only-of-type {\n",
              "        vertical-align: middle;\n",
              "    }\n",
              "\n",
              "    .dataframe tbody tr th {\n",
              "        vertical-align: top;\n",
              "    }\n",
              "\n",
              "    .dataframe thead th {\n",
              "        text-align: right;\n",
              "    }\n",
              "</style>\n",
              "<table border=\"1\" class=\"dataframe\">\n",
              "  <thead>\n",
              "    <tr style=\"text-align: right;\">\n",
              "      <th></th>\n",
              "      <th>age</th>\n",
              "      <th>sex</th>\n",
              "      <th>bmi</th>\n",
              "      <th>children</th>\n",
              "      <th>smoker</th>\n",
              "      <th>region</th>\n",
              "      <th>charges</th>\n",
              "    </tr>\n",
              "  </thead>\n",
              "  <tbody>\n",
              "    <tr>\n",
              "      <th>0</th>\n",
              "      <td>19</td>\n",
              "      <td>female</td>\n",
              "      <td>27.900</td>\n",
              "      <td>0</td>\n",
              "      <td>yes</td>\n",
              "      <td>southwest</td>\n",
              "      <td>16884.92400</td>\n",
              "    </tr>\n",
              "    <tr>\n",
              "      <th>1</th>\n",
              "      <td>18</td>\n",
              "      <td>male</td>\n",
              "      <td>33.770</td>\n",
              "      <td>1</td>\n",
              "      <td>no</td>\n",
              "      <td>southeast</td>\n",
              "      <td>1725.55230</td>\n",
              "    </tr>\n",
              "    <tr>\n",
              "      <th>2</th>\n",
              "      <td>28</td>\n",
              "      <td>male</td>\n",
              "      <td>33.000</td>\n",
              "      <td>3</td>\n",
              "      <td>no</td>\n",
              "      <td>southeast</td>\n",
              "      <td>4449.46200</td>\n",
              "    </tr>\n",
              "    <tr>\n",
              "      <th>3</th>\n",
              "      <td>33</td>\n",
              "      <td>male</td>\n",
              "      <td>22.705</td>\n",
              "      <td>0</td>\n",
              "      <td>no</td>\n",
              "      <td>northwest</td>\n",
              "      <td>21984.47061</td>\n",
              "    </tr>\n",
              "    <tr>\n",
              "      <th>4</th>\n",
              "      <td>32</td>\n",
              "      <td>male</td>\n",
              "      <td>28.880</td>\n",
              "      <td>0</td>\n",
              "      <td>no</td>\n",
              "      <td>northwest</td>\n",
              "      <td>3866.85520</td>\n",
              "    </tr>\n",
              "  </tbody>\n",
              "</table>\n",
              "</div>\n",
              "      <button class=\"colab-df-convert\" onclick=\"convertToInteractive('df-7cb950ed-1a90-4155-9130-1fe4a70c60a1')\"\n",
              "              title=\"Convert this dataframe to an interactive table.\"\n",
              "              style=\"display:none;\">\n",
              "        \n",
              "  <svg xmlns=\"http://www.w3.org/2000/svg\" height=\"24px\"viewBox=\"0 0 24 24\"\n",
              "       width=\"24px\">\n",
              "    <path d=\"M0 0h24v24H0V0z\" fill=\"none\"/>\n",
              "    <path d=\"M18.56 5.44l.94 2.06.94-2.06 2.06-.94-2.06-.94-.94-2.06-.94 2.06-2.06.94zm-11 1L8.5 8.5l.94-2.06 2.06-.94-2.06-.94L8.5 2.5l-.94 2.06-2.06.94zm10 10l.94 2.06.94-2.06 2.06-.94-2.06-.94-.94-2.06-.94 2.06-2.06.94z\"/><path d=\"M17.41 7.96l-1.37-1.37c-.4-.4-.92-.59-1.43-.59-.52 0-1.04.2-1.43.59L10.3 9.45l-7.72 7.72c-.78.78-.78 2.05 0 2.83L4 21.41c.39.39.9.59 1.41.59.51 0 1.02-.2 1.41-.59l7.78-7.78 2.81-2.81c.8-.78.8-2.07 0-2.86zM5.41 20L4 18.59l7.72-7.72 1.47 1.35L5.41 20z\"/>\n",
              "  </svg>\n",
              "      </button>\n",
              "      \n",
              "  <style>\n",
              "    .colab-df-container {\n",
              "      display:flex;\n",
              "      flex-wrap:wrap;\n",
              "      gap: 12px;\n",
              "    }\n",
              "\n",
              "    .colab-df-convert {\n",
              "      background-color: #E8F0FE;\n",
              "      border: none;\n",
              "      border-radius: 50%;\n",
              "      cursor: pointer;\n",
              "      display: none;\n",
              "      fill: #1967D2;\n",
              "      height: 32px;\n",
              "      padding: 0 0 0 0;\n",
              "      width: 32px;\n",
              "    }\n",
              "\n",
              "    .colab-df-convert:hover {\n",
              "      background-color: #E2EBFA;\n",
              "      box-shadow: 0px 1px 2px rgba(60, 64, 67, 0.3), 0px 1px 3px 1px rgba(60, 64, 67, 0.15);\n",
              "      fill: #174EA6;\n",
              "    }\n",
              "\n",
              "    [theme=dark] .colab-df-convert {\n",
              "      background-color: #3B4455;\n",
              "      fill: #D2E3FC;\n",
              "    }\n",
              "\n",
              "    [theme=dark] .colab-df-convert:hover {\n",
              "      background-color: #434B5C;\n",
              "      box-shadow: 0px 1px 3px 1px rgba(0, 0, 0, 0.15);\n",
              "      filter: drop-shadow(0px 1px 2px rgba(0, 0, 0, 0.3));\n",
              "      fill: #FFFFFF;\n",
              "    }\n",
              "  </style>\n",
              "\n",
              "      <script>\n",
              "        const buttonEl =\n",
              "          document.querySelector('#df-7cb950ed-1a90-4155-9130-1fe4a70c60a1 button.colab-df-convert');\n",
              "        buttonEl.style.display =\n",
              "          google.colab.kernel.accessAllowed ? 'block' : 'none';\n",
              "\n",
              "        async function convertToInteractive(key) {\n",
              "          const element = document.querySelector('#df-7cb950ed-1a90-4155-9130-1fe4a70c60a1');\n",
              "          const dataTable =\n",
              "            await google.colab.kernel.invokeFunction('convertToInteractive',\n",
              "                                                     [key], {});\n",
              "          if (!dataTable) return;\n",
              "\n",
              "          const docLinkHtml = 'Like what you see? Visit the ' +\n",
              "            '<a target=\"_blank\" href=https://colab.research.google.com/notebooks/data_table.ipynb>data table notebook</a>'\n",
              "            + ' to learn more about interactive tables.';\n",
              "          element.innerHTML = '';\n",
              "          dataTable['output_type'] = 'display_data';\n",
              "          await google.colab.output.renderOutput(dataTable, element);\n",
              "          const docLink = document.createElement('div');\n",
              "          docLink.innerHTML = docLinkHtml;\n",
              "          element.appendChild(docLink);\n",
              "        }\n",
              "      </script>\n",
              "    </div>\n",
              "  </div>\n",
              "  "
            ],
            "text/plain": [
              "   age     sex     bmi  children smoker     region      charges\n",
              "0   19  female  27.900         0    yes  southwest  16884.92400\n",
              "1   18    male  33.770         1     no  southeast   1725.55230\n",
              "2   28    male  33.000         3     no  southeast   4449.46200\n",
              "3   33    male  22.705         0     no  northwest  21984.47061\n",
              "4   32    male  28.880         0     no  northwest   3866.85520"
            ]
          },
          "metadata": {},
          "execution_count": 21
        }
      ]
    },
    {
      "cell_type": "markdown",
      "source": [
        "**Now, just as before, we need to transform the non-numerical columns into numbers and this time we'll also be normalizing the numerical columns with different ranges**\n",
        "\n",
        "**(to make sure they're all between 0 and 1).**\n",
        "\n",
        "**To do this, we're going to use a few classes from Scikit-Learn:**\n",
        "\n",
        "*[make_column_transformer](https://scikit-learn.org/stable/modules/generated/sklearn.compose.make_column_transformer.html)\n",
        "\n",
        ">[MinMaxScaler](https://scikit-learn.org/stable/modules/generated/sklearn.preprocessing.MinMaxScaler.html)\n",
        "\n",
        ">[OneHotEncoder ](https://scikit-learn.org/stable/modules/generated/sklearn.preprocessing.OneHotEncoder.html)\n",
        "\n",
        "\n",
        "*Let's see them in action.*\n"
      ],
      "metadata": {
        "id": "NstHOr1UffJN"
      }
    },
    {
      "cell_type": "code",
      "source": [
        "from sklearn.compose import make_column_transformer\n",
        "from sklearn.preprocessing import MinMaxScaler, OneHotEncoder\n",
        "#Step 1:\n",
        "# Create column transformer (this will help us normalize/preprocess our data)\n",
        "ct = make_column_transformer(\n",
        "    (MinMaxScaler(), [\"age\", \"bmi\", \"children\"]), # get all values between 0 and 1\n",
        "    (OneHotEncoder(handle_unknown=\"ignore\"), [\"sex\", \"smoker\", \"region\"])\n",
        ")\n",
        "\n",
        "#Step2:\n",
        "# Create X & y\n",
        "X = insurance.drop(\"charges\", axis=1)\n",
        "y = insurance[\"charges\"]\n",
        "\n",
        "#Step3:\n",
        "# Build our train and test sets (use random state to ensure same split as before)\n",
        "X_train, X_test, y_train, y_test = train_test_split(X, y, test_size=0.2, random_state=42)\n",
        "\n",
        "#step4:\n",
        "# Fit column transformer on the training data only (doing so on test data would result in data leakage)\n",
        "ct.fit(X_train)\n",
        "\n",
        "#Step5:\n",
        "# Transform training and test data with normalization (MinMaxScalar) and one hot encoding (OneHotEncoder)\n",
        "X_train_normal = ct.transform(X_train)\n",
        "X_test_normal = ct.transform(X_test)"
      ],
      "metadata": {
        "id": "Ev1fBU7Cgetb"
      },
      "execution_count": 23,
      "outputs": []
    },
    {
      "cell_type": "markdown",
      "source": [
        "**Now we've normalized it and one-hot encoding it, what does our data look like now?**"
      ],
      "metadata": {
        "id": "dq6iK7eviQ35"
      }
    },
    {
      "cell_type": "code",
      "source": [
        "# Non-normalized and non-one-hot encoded data example\n",
        "X_train.loc[0]"
      ],
      "metadata": {
        "colab": {
          "base_uri": "https://localhost:8080/"
        },
        "id": "7Vd7nVtTiUO9",
        "outputId": "63ca0048-41d8-40b3-e2e5-4f37bc3e490c"
      },
      "execution_count": 24,
      "outputs": [
        {
          "output_type": "execute_result",
          "data": {
            "text/plain": [
              "age                19\n",
              "sex            female\n",
              "bmi              27.9\n",
              "children            0\n",
              "smoker            yes\n",
              "region      southwest\n",
              "Name: 0, dtype: object"
            ]
          },
          "metadata": {},
          "execution_count": 24
        }
      ]
    },
    {
      "cell_type": "code",
      "source": [
        "# Normalized and one-hot encoded example\n",
        "X_train_normal[0]"
      ],
      "metadata": {
        "colab": {
          "base_uri": "https://localhost:8080/"
        },
        "id": "6TyRdrxqejOY",
        "outputId": "f7efff5d-6389-40a7-ed89-9ca769f13281"
      },
      "execution_count": 25,
      "outputs": [
        {
          "output_type": "execute_result",
          "data": {
            "text/plain": [
              "array([0.60869565, 0.10734463, 0.4       , 1.        , 0.        ,\n",
              "       1.        , 0.        , 0.        , 1.        , 0.        ,\n",
              "       0.        ])"
            ]
          },
          "metadata": {},
          "execution_count": 25
        }
      ]
    },
    {
      "cell_type": "code",
      "source": [
        "# Notice the normalized/one-hot encoded shape is larger because of the extra columns\n",
        "X_train_normal.shape, X_train.shape"
      ],
      "metadata": {
        "colab": {
          "base_uri": "https://localhost:8080/"
        },
        "id": "y0jJytNseCOa",
        "outputId": "83511705-11a7-444e-e06e-4a755a779907"
      },
      "execution_count": 26,
      "outputs": [
        {
          "output_type": "execute_result",
          "data": {
            "text/plain": [
              "((1070, 11), (1070, 6))"
            ]
          },
          "metadata": {},
          "execution_count": 26
        }
      ]
    },
    {
      "cell_type": "markdown",
      "source": [
        "Our data is normalized and numerical, let's model it.\n",
        "\n",
        "We'll use the same model as insurance_model_2."
      ],
      "metadata": {
        "id": "R_3MU01MiqU0"
      }
    },
    {
      "cell_type": "code",
      "source": [
        "# Set random seed\n",
        "tf.random.set_seed(42)\n",
        "\n",
        "# Build the model (3 layers, 100, 10, 1 units)\n",
        "insurance_model_3 = tf.keras.Sequential([\n",
        "  tf.keras.layers.Dense(100),\n",
        "  tf.keras.layers.Dense(10),\n",
        "  tf.keras.layers.Dense(1)\n",
        "])\n",
        "\n",
        "# Compile the model\n",
        "insurance_model_3.compile(loss=tf.keras.losses.mae,\n",
        "                          optimizer=tf.keras.optimizers.Adam(),\n",
        "                          metrics=['mae'])\n",
        "\n",
        "# Fit the model for 200 epochs (same as insurance_model_2)\n",
        "insurance_model_3.fit(X_train_normal, y_train, epochs=200, verbose=0) "
      ],
      "metadata": {
        "colab": {
          "base_uri": "https://localhost:8080/"
        },
        "id": "1Pq_03FVitkG",
        "outputId": "771b4778-762c-45b5-cdf8-10cef0dd8682"
      },
      "execution_count": 27,
      "outputs": [
        {
          "output_type": "execute_result",
          "data": {
            "text/plain": [
              "<keras.callbacks.History at 0x7f171de5b750>"
            ]
          },
          "metadata": {},
          "execution_count": 27
        }
      ]
    },
    {
      "cell_type": "markdown",
      "source": [
        "Let's evaluate the model on normalized test set."
      ],
      "metadata": {
        "id": "erGxt_Y1jGGQ"
      }
    },
    {
      "cell_type": "code",
      "source": [
        "# Evaulate 3rd model\n",
        "insurance_model_3_loss, insurance_model_3_mae = insurance_model_3.evaluate(X_test_normal, y_test)"
      ],
      "metadata": {
        "colab": {
          "base_uri": "https://localhost:8080/"
        },
        "id": "M8_3_Go9jH7_",
        "outputId": "af33b544-c2e6-42d1-94da-f475e307af4a"
      },
      "execution_count": 28,
      "outputs": [
        {
          "output_type": "stream",
          "name": "stdout",
          "text": [
            "9/9 [==============================] - 0s 2ms/step - loss: 3171.5779 - mae: 3171.5779\n"
          ]
        }
      ]
    },
    {
      "cell_type": "code",
      "source": [
        "# Compare modelling results from non-normalized data and normalized data\n",
        "insurance_model_2_mae, insurance_model_3_mae"
      ],
      "metadata": {
        "colab": {
          "base_uri": "https://localhost:8080/"
        },
        "id": "hoW3y-iZd0Ls",
        "outputId": "e445b95c-32fa-4098-9e3a-04c714ab27a7"
      },
      "execution_count": 29,
      "outputs": [
        {
          "output_type": "execute_result",
          "data": {
            "text/plain": [
              "(3495.802490234375, 3171.577880859375)"
            ]
          },
          "metadata": {},
          "execution_count": 29
        }
      ]
    },
    {
      "cell_type": "markdown",
      "source": [
        "From this we can see normalizing the data results in 10% less error using the same model than not normalizing the data.\n",
        "\n",
        "This is **one of the main benefits of normalization: faster convergence time** (a fancy way of saying, your model gets to better results faster).\n",
        "\n",
        "insurance_model_2 may have eventually achieved the same results as insurance_model_3 if we left it training for longer.\n",
        "\n",
        "Also, the results may change if we were to alter the architectures of the models, e.g. more hidden units per layer or more layers.\n",
        "\n",
        "But since our main goal as neural network practioners is to decrease the time between experiments, anything that helps us get better results sooner is a plus."
      ],
      "metadata": {
        "id": "jYwQS6VUjz-a"
      }
    },
    {
      "cell_type": "code",
      "source": [
        ""
      ],
      "metadata": {
        "id": "ZH5YBd02kA7N"
      },
      "execution_count": null,
      "outputs": []
    },
    {
      "cell_type": "code",
      "source": [
        ""
      ],
      "metadata": {
        "id": "74N5jv7udshZ"
      },
      "execution_count": null,
      "outputs": []
    },
    {
      "cell_type": "code",
      "source": [
        ""
      ],
      "metadata": {
        "id": "aOP9jR2dddGU"
      },
      "execution_count": null,
      "outputs": []
    },
    {
      "cell_type": "code",
      "source": [
        ""
      ],
      "metadata": {
        "id": "Tc2LjoDTdTwD"
      },
      "execution_count": null,
      "outputs": []
    },
    {
      "cell_type": "code",
      "source": [
        ""
      ],
      "metadata": {
        "id": "1gk_LDeIcu5u"
      },
      "execution_count": null,
      "outputs": []
    },
    {
      "cell_type": "code",
      "source": [
        ""
      ],
      "metadata": {
        "id": "tluLcPyOcrHi"
      },
      "execution_count": null,
      "outputs": []
    },
    {
      "cell_type": "code",
      "source": [
        ""
      ],
      "metadata": {
        "id": "dhBQle3RccgU"
      },
      "execution_count": null,
      "outputs": []
    },
    {
      "cell_type": "code",
      "source": [
        ""
      ],
      "metadata": {
        "id": "_UazB5prcRYD"
      },
      "execution_count": null,
      "outputs": []
    },
    {
      "cell_type": "code",
      "source": [
        ""
      ],
      "metadata": {
        "id": "8zy1D02WcLrX"
      },
      "execution_count": null,
      "outputs": []
    },
    {
      "cell_type": "code",
      "source": [
        ""
      ],
      "metadata": {
        "id": "J3vat3Ygb-R7"
      },
      "execution_count": null,
      "outputs": []
    },
    {
      "cell_type": "code",
      "source": [
        ""
      ],
      "metadata": {
        "id": "Lqx7TmgWbxvi"
      },
      "execution_count": null,
      "outputs": []
    },
    {
      "cell_type": "code",
      "source": [
        ""
      ],
      "metadata": {
        "id": "H5wXD0qJbqOW"
      },
      "execution_count": null,
      "outputs": []
    },
    {
      "cell_type": "code",
      "source": [
        ""
      ],
      "metadata": {
        "id": "wS454E_GbnHR"
      },
      "execution_count": null,
      "outputs": []
    },
    {
      "cell_type": "code",
      "source": [
        ""
      ],
      "metadata": {
        "id": "FxBxMumlbCkp"
      },
      "execution_count": null,
      "outputs": []
    }
  ]
}